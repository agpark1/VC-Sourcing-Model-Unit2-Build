{
 "cells": [
  {
   "cell_type": "code",
   "execution_count": 47,
   "metadata": {},
   "outputs": [],
   "source": [
    "import pandas as pd\n",
    "import numpy as np\n",
    "#NLP Environment setup \n",
    "from collections import Counter \n",
    "\n",
    "#Plotting \n",
    "import squarify\n",
    "import matplotlib.pyplot as plt \n",
    "import seaborn as sns \n",
    "\n",
    "#NLP Libraries \n",
    "import re\n",
    "from nltk.stem import PorterStemmer\n",
    "import spacy\n",
    "from spacy.tokenizer import Tokenizer#NLP Environment setup \n",
    "from collections import Counter \n",
    "\n",
    "#Plotting \n",
    "import squarify\n",
    "import matplotlib.pyplot as plt \n",
    "import seaborn as sns \n",
    "\n",
    "#NLP Libraries \n",
    "import re\n",
    "from nltk.stem import PorterStemmer\n",
    "import spacy\n",
    "from spacy.tokenizer import Tokenizer\n"
   ]
  },
  {
   "cell_type": "code",
   "execution_count": 48,
   "metadata": {},
   "outputs": [],
   "source": [
    "df = pd.read_csv('/Users/noahpovis/Desktop/Buildweek22/Build Week 2 /DX.csv')\n"
   ]
  },
  {
   "cell_type": "code",
   "execution_count": 49,
   "metadata": {},
   "outputs": [],
   "source": [
    "train, val, test = np.split(df.sample(frac=1), [int(.6*len(df)), int(.8*len(df))])\n"
   ]
  },
  {
   "cell_type": "code",
   "execution_count": 50,
   "metadata": {},
   "outputs": [
    {
     "output_type": "execute_result",
     "data": {
      "text/plain": "(16278, 18)"
     },
     "metadata": {},
     "execution_count": 50
    }
   ],
   "source": [
    "train.shape"
   ]
  },
  {
   "cell_type": "code",
   "execution_count": 51,
   "metadata": {},
   "outputs": [
    {
     "output_type": "execute_result",
     "data": {
      "text/plain": "(5426, 18)"
     },
     "metadata": {},
     "execution_count": 51
    }
   ],
   "source": [
    "val.shape"
   ]
  },
  {
   "cell_type": "code",
   "execution_count": 52,
   "metadata": {},
   "outputs": [
    {
     "output_type": "execute_result",
     "data": {
      "text/plain": "(5427, 18)"
     },
     "metadata": {},
     "execution_count": 52
    }
   ],
   "source": [
    "test.shape"
   ]
  },
  {
   "cell_type": "code",
   "execution_count": 53,
   "metadata": {},
   "outputs": [],
   "source": [
    "def clean(i):\n",
    "    i = i.copy()\n",
    "    i.drop_duplicates(subset=['Organization Name','Funding Type'], inplace = True)\n",
    "    i.drop_duplicates(keep='first', inplace= True)\n",
    "    i['Raised Series A'] = np.where(i['Organization Name'].duplicated(), 'Yes', 'No')\n",
    "    i.drop_duplicates(subset='Organization Name', keep='last', inplace= True)\n",
    "    i['Money Raised Currency (in USD)'] = pd.to_numeric(i['Money Raised Currency (in USD)'], errors='coerce')\n",
    "    i['Total Funding Amount Currency (in USD)'] = pd.to_numeric(i['Total Funding Amount Currency (in USD)'], errors='coerce')\n",
    "    i['Announced Date'] = pd.to_datetime(i['Announced Date'], errors='coerce')\n",
    "    i['Total Funding Amount Currency (in USD)'] = pd.to_numeric(i['Total Funding Amount Currency (in USD)'], errors='coerce')\n",
    "    i  = i[i['Funding Type'] != 'Series A'] \n",
    "    return i \n",
    "\n",
    "\n",
    "\n",
    "\n",
    "\n",
    "\n",
    "\n",
    "\n",
    "\n"
   ]
  },
  {
   "cell_type": "code",
   "execution_count": 54,
   "metadata": {},
   "outputs": [],
   "source": [
    "train = clean(train)\n",
    "val = clean(val)\n",
    "test = clean(test)\n"
   ]
  },
  {
   "cell_type": "code",
   "execution_count": 55,
   "metadata": {},
   "outputs": [
    {
     "output_type": "execute_result",
     "data": {
      "text/plain": "No     12300\nYes      188\nName: Raised Series A, dtype: int64"
     },
     "metadata": {},
     "execution_count": 55
    }
   ],
   "source": [
    "train['Raised Series A'].value_counts()"
   ]
  },
  {
   "cell_type": "code",
   "execution_count": 56,
   "metadata": {},
   "outputs": [
    {
     "output_type": "execute_result",
     "data": {
      "text/plain": "((12488, 19), (4557, 19), (4552, 19))"
     },
     "metadata": {},
     "execution_count": 56
    }
   ],
   "source": [
    "train.shape , val.shape, test.shape"
   ]
  },
  {
   "cell_type": "code",
   "execution_count": 57,
   "metadata": {},
   "outputs": [
    {
     "output_type": "execute_result",
     "data": {
      "text/plain": "3587"
     },
     "metadata": {},
     "execution_count": 57
    }
   ],
   "source": [
    "train['Investor Names'].isnull().sum()"
   ]
  },
  {
   "cell_type": "code",
   "execution_count": 63,
   "metadata": {},
   "outputs": [],
   "source": [
    "def split_columns(text):\n",
    "    text = text.copy()\n",
    "    # new data frame with split value columns \n",
    "    new = text[\"Organization Industries\"].str.split(\",\", n = 7, expand = True) \n",
    "    # making separate first name column from new data frame \n",
    "    text[\"Primary Industry\"]= new[0] \n",
    "    # making separate last name column from new data frame \n",
    "    text[\"Sub_Ind\"]= new[1] \n",
    "    text[\"Sub_Ind2\"]= new[2]\n",
    "    text[\"Sub_Ind3\"]= new[3]\n",
    "    text[\"Sub_Ind4\"]= new[4]\n",
    "    text[\"Sub_Ind5\"]= new[5]\n",
    "    text[\"Sub_Ind6\"]= new[6]\n",
    "    text[\"Sub_Ind7\"]= new[7]\n",
    "    # Dropping old Name columns \n",
    "    text.drop(columns =[\"Organization Industries\"], inplace = True)\n",
    "\n",
    "    #same thing but for investor column \n",
    "    new1 = text[\"Investor Names\"].str.split(\",\", n = 11, expand = True) \n",
    "    # making separate first name column from new data frame \n",
    "    text[\"Investor1\"]= new1[0] \n",
    "    # making separate last name column from new data frame \n",
    "    text[\"Investor1\"]= new1[1] \n",
    "    text[\"Investor2\"]= new1[2]\n",
    "    text[\"Investor3\"]= new1[3]\n",
    "    text[\"Investor4\"]= new1[4]\n",
    "    text[\"Investor5\"]= new1[5]\n",
    "    text[\"Investor6\"]= new1[6]\n",
    "    text[\"Investor7\"]= new1[7]\n",
    "    text[\"Investor8\"]= new1[8]\n",
    "    text[\"Investor9\"]= new1[9]\n",
    "    text[\"Investor10\"]= new1[10]\n",
    "    text[\"Investor11\"]= new1[11]\n",
    "    # Dropping old Name columns \n",
    "    text.drop(columns =[\"Investor Names\"], inplace = True)\n",
    "    text.drop(columns =[\"Lead Investors\"], inplace = True)\n",
    "\n",
    "\n",
    "\n",
    "    return text \n",
    "\n"
   ]
  },
  {
   "cell_type": "code",
   "execution_count": 64,
   "metadata": {},
   "outputs": [],
   "source": [
    "train = split_columns(train)\n",
    "val = split_columns(val)\n",
    "test = split_columns(test)\n"
   ]
  },
  {
   "cell_type": "code",
   "execution_count": 65,
   "metadata": {},
   "outputs": [
    {
     "output_type": "execute_result",
     "data": {
      "text/plain": "Index(['Transaction Name', 'Transaction Name URL', 'Organization Name',\n       'Organization Name URL', 'Funding Type', 'Money Raised',\n       'Money Raised Currency', 'Money Raised Currency (in USD)',\n       'Announced Date', 'Total Funding Amount',\n       'Total Funding Amount Currency',\n       'Total Funding Amount Currency (in USD)', 'Organization Description',\n       'Organization Location', 'Number of Investors', 'Raised Series A',\n       'Primary Industry', 'Sub_Ind', 'Sub_Ind2', 'Sub_Ind3', 'Sub_Ind4',\n       'Sub_Ind5', 'Sub_Ind6', 'Sub_Ind7', 'Investor1', 'Investor2',\n       'Investor3', 'Investor4', 'Investor5', 'Investor6', 'Investor7',\n       'Investor8', 'Investor9', 'Investor10', 'Investor11'],\n      dtype='object')"
     },
     "metadata": {},
     "execution_count": 65
    }
   ],
   "source": [
    "train.columns"
   ]
  },
  {
   "cell_type": "code",
   "execution_count": 66,
   "metadata": {},
   "outputs": [
    {
     "output_type": "execute_result",
     "data": {
      "text/plain": "Transaction Name                              0\nTransaction Name URL                          0\nOrganization Name                             0\nOrganization Name URL                         0\nFunding Type                                  0\nMoney Raised                               4176\nMoney Raised Currency                      4174\nMoney Raised Currency (in USD)             4177\nAnnounced Date                                1\nTotal Funding Amount                       3091\nTotal Funding Amount Currency              3089\nTotal Funding Amount Currency (in USD)     3092\nOrganization Description                      0\nOrganization Location                       302\nNumber of Investors                        3587\nRaised Series A                               0\nPrimary Industry                            490\nSub_Ind                                    2223\nSub_Ind2                                   4553\nSub_Ind3                                   7674\nSub_Ind4                                   9653\nSub_Ind5                                  10917\nSub_Ind6                                  11631\nSub_Ind7                                  12025\nInvestor1                                  8866\nInvestor2                                 10362\nInvestor3                                 11150\nInvestor4                                 11626\nInvestor5                                 11914\nInvestor6                                 12115\nInvestor7                                 12257\nInvestor8                                 12329\nInvestor9                                 12388\nInvestor10                                12414\nInvestor11                                12429\ndtype: int64"
     },
     "metadata": {},
     "execution_count": 66
    }
   ],
   "source": [
    "train.isnull().sum()"
   ]
  },
  {
   "cell_type": "code",
   "execution_count": 62,
   "metadata": {},
   "outputs": [],
   "source": [
    "#def nlp_clean(z):\n",
    "   # z['Organization Description'] = z['Organization Description'].apply(lambda x: x.lower())\n",
    "   # z['Organization Industries'] = z['Organization Industries'].str.lower()\n",
    "   # z['Organization Location'].astype(str)\n",
    "   # z['Organization Location'] = z['Organization Location'].str.lower()\n",
    "    #z['Investor Names'] = z['Investor Names'].str.lower()\n",
    "    #z['Lead Investors'] = z['Lead Investors'].str.lower()\n",
    "    #return z \n"
   ]
  }
 ],
 "metadata": {
  "language_info": {
   "codemirror_mode": {
    "name": "ipython",
    "version": 3
   },
   "file_extension": ".py",
   "mimetype": "text/x-python",
   "name": "python",
   "nbconvert_exporter": "python",
   "pygments_lexer": "ipython3",
   "version": "3.7.7-final"
  },
  "orig_nbformat": 2,
  "kernelspec": {
   "name": "python37764bitunit2condaf2d4faf30a5848cbbdf1cd45adcc297a",
   "display_name": "Python 3.7.7 64-bit ('unit2': conda)"
  }
 },
 "nbformat": 4,
 "nbformat_minor": 2
}