{
 "cells": [
  {
   "cell_type": "code",
   "execution_count": 62,
   "metadata": {},
   "outputs": [],
   "source": [
    "import pandas as pd\n",
    "import numpy as np\n",
    "#NLP Environment setup \n",
    "from collections import Counter \n",
    "\n",
    "#Plotting \n",
    "import squarify\n",
    "import matplotlib.pyplot as plt \n",
    "import seaborn as sns \n",
    "\n",
    "#NLP Libraries \n",
    "import re\n",
    "from nltk.stem import PorterStemmer\n",
    "import spacy\n",
    "from spacy.tokenizer import Tokenizer#NLP Environment setup \n",
    "from collections import Counter \n",
    "\n",
    "#Plotting \n",
    "import squarify\n",
    "import matplotlib.pyplot as plt \n",
    "import seaborn as sns \n",
    "\n",
    "#NLP Libraries \n",
    "import re\n",
    "from nltk.stem import PorterStemmer\n",
    "import spacy\n",
    "from spacy.tokenizer import Tokenizer\n"
   ]
  },
  {
   "cell_type": "code",
   "execution_count": 63,
   "metadata": {},
   "outputs": [],
   "source": [
    "df = pd.read_csv('/Users/noahpovis/Desktop/Buildweek22/Build Week 2 /Buildweek22.csv', mangle_dupe_cols=True)\n"
   ]
  },
  {
   "cell_type": "code",
   "execution_count": 64,
   "metadata": {},
   "outputs": [],
   "source": [
    "train, val, test = np.split(df.sample(frac=1), [int(.6*len(df)), int(.8*len(df))])\n"
   ]
  },
  {
   "cell_type": "code",
   "execution_count": 65,
   "metadata": {},
   "outputs": [
    {
     "output_type": "execute_result",
     "data": {
      "text/plain": "(16278, 19)"
     },
     "metadata": {},
     "execution_count": 65
    }
   ],
   "source": [
    "train.shape"
   ]
  },
  {
   "cell_type": "code",
   "execution_count": 66,
   "metadata": {},
   "outputs": [
    {
     "output_type": "execute_result",
     "data": {
      "text/plain": "(5426, 19)"
     },
     "metadata": {},
     "execution_count": 66
    }
   ],
   "source": [
    "val.shape"
   ]
  },
  {
   "cell_type": "code",
   "execution_count": 67,
   "metadata": {},
   "outputs": [
    {
     "output_type": "execute_result",
     "data": {
      "text/plain": "(5427, 19)"
     },
     "metadata": {},
     "execution_count": 67
    }
   ],
   "source": [
    "test.shape"
   ]
  },
  {
   "cell_type": "code",
   "execution_count": 68,
   "metadata": {},
   "outputs": [],
   "source": [
    "def clean(i):\n",
    "    i = i.copy()\n",
    "    i.drop_duplicates(subset=['Organization Name','Funding Type'], inplace = True)\n",
    "    i.drop_duplicates(keep='first', inplace= True)\n",
    "    i['Raised Series A'] = np.where(i['Organization Name'].duplicated(), 'Yes', 'No')\n",
    "    i.drop_duplicates(subset='Organization Name', keep='last', inplace= True)\n",
    "    i['Money Raised Currency (in USD)'] = pd.to_numeric(i['Money Raised Currency (in USD)'], errors='coerce')\n",
    "    i['Total Funding Amount Currency (in USD)'] = pd.to_numeric(i['Total Funding Amount Currency (in USD)'], errors='coerce')\n",
    "    i['Announced Date'] = pd.to_datetime(i['Announced Date'], errors='coerce')\n",
    "    i['Total Funding Amount Currency (in USD)'] = pd.to_numeric(i['Total Funding Amount Currency (in USD)'], errors='coerce')\n",
    "    i  = i[i['Funding Type'] != 'Series A'] \n",
    "    return i \n",
    "\n",
    "\n",
    "\n",
    "\n",
    "\n",
    "\n",
    "\n",
    "\n",
    "\n"
   ]
  },
  {
   "cell_type": "code",
   "execution_count": 69,
   "metadata": {},
   "outputs": [],
   "source": [
    "train = clean(train)\n",
    "val = clean(val)\n",
    "test = clean(test)\n"
   ]
  },
  {
   "cell_type": "code",
   "execution_count": 70,
   "metadata": {},
   "outputs": [
    {
     "output_type": "execute_result",
     "data": {
      "text/plain": "No     12311\nYes      182\nName: Raised Series A, dtype: int64"
     },
     "metadata": {},
     "execution_count": 70
    }
   ],
   "source": [
    "train['Raised Series A'].value_counts()"
   ]
  },
  {
   "cell_type": "code",
   "execution_count": 71,
   "metadata": {},
   "outputs": [
    {
     "output_type": "execute_result",
     "data": {
      "text/plain": "((12493, 20), (4576, 20), (4535, 20))"
     },
     "metadata": {},
     "execution_count": 71
    }
   ],
   "source": [
    "train.shape , val.shape, test.shape"
   ]
  },
  {
   "cell_type": "code",
   "execution_count": 72,
   "metadata": {},
   "outputs": [],
   "source": [
    "def column_name_change(p):\n",
    "    p = p.copy()\n",
    "    p= p.rename(columns = {'Organization Description':'Total Funding Amount','Organization Industries':'Total Funding Amount Currency',\n",
    "    'Organization Location':'Total Funding Amount Currency (in USD)','Total Funding Amount':'Organization Description',\n",
    "    'Total Funding Amount Currency':'Organization Industries','Total Funding Amount Currency (in USD)':'Organization Location',\n",
    "    'Investor Names':'Number of Investors','Number of Investors':'Investor Names'})\n",
    "    return p "
   ]
  },
  {
   "cell_type": "code",
   "execution_count": 73,
   "metadata": {},
   "outputs": [],
   "source": [
    "#change column names \n",
    "train = column_name_change(train)\n",
    "val = column_name_change(val)\n",
    "test = column_name_change(test)"
   ]
  },
  {
   "cell_type": "code",
   "execution_count": 74,
   "metadata": {},
   "outputs": [
    {
     "output_type": "execute_result",
     "data": {
      "text/plain": "                     Transaction Name  \\\n8514     Seed Round - Kapiva Ayurveda   \n5934            Seed Round - Bitgenia   \n9250   Seed Round - Watsan Envirotech   \n8484     Seed Round - RevenYOU - BOTS   \n20217    Seed Round - Picture My Life   \n\n                                    Transaction Name URL  Organization Name  \\\n8514   https://www.crunchbase.com/funding_round/kapiv...    Kapiva Ayurveda   \n5934   https://www.crunchbase.com/funding_round/bitge...           Bitgenia   \n9250   https://www.crunchbase.com/funding_round/watsa...  Watsan Envirotech   \n8484   https://www.crunchbase.com/funding_round/reven...    RevenYOU - BOTS   \n20217  https://www.crunchbase.com/funding_round/pictu...    Picture My Life   \n\n                                   Organization Name URL Funding Type  \\\n8514   https://www.crunchbase.com/organization/kapiva...         Seed   \n5934    https://www.crunchbase.com/organization/bitgenia         Seed   \n9250   https://www.crunchbase.com/organization/watsan...         Seed   \n8484    https://www.crunchbase.com/organization/revenyou         Seed   \n20217  https://www.crunchbase.com/organization/pictur...         Seed   \n\n      Money Raised Money Raised Currency  Money Raised Currency (in USD)  \\\n8514       2500000                   USD                       2500000.0   \n5934           NaN                   NaN                             NaN   \n9250           NaN                   NaN                             NaN   \n8484       1800000                   EUR                       2036302.0   \n20217       196681                   EUR                        244031.0   \n\n      Announced Date Total Funding Amount Total Funding Amount Currency  \\\n8514      2019-01-25              2500000                           USD   \n5934      2019-04-30                  NaN                           NaN   \n9250      2019-01-01                  NaN                           NaN   \n8484      2019-01-24              5038000                           EUR   \n20217     2018-02-16               765396                           USD   \n\n      Total Funding Amount Currency (in USD)  \\\n8514                                 2500000   \n5934                                     NaN   \n9250                                     NaN   \n8484                                 5651225   \n20217                                 765396   \n\n                                Organization Description  \\\n8514   Kapiva Ayurveda is a fast-growing Ayurvedic fo...   \n5934   Bitgenia is an argentine bioinformatics compan...   \n9250       Watsan Envirotech is a manufacturing company.   \n8484   RevenYOU gives the world access to automated t...   \n20217  Image-based communication tools that make life...   \n\n                                 Organization Industries  \\\n8514                                  E-Commerce, Retail   \n5934                         Bioinformatics, Health Care   \n9250   Manufacturing, Waste Management, Water Purific...   \n8484                                                 NaN   \n20217              Apps, Computer, iOS, Mobile, Software   \n\n       Organization Location Number of Investors     Investor Names  \\\n8514                     NaN                   1  Fireside Ventures   \n5934                     NaN                   1                NaN   \n9250                     NaN                   1     AIM Smart City   \n8484                     NaN                   3                NaN   \n20217                    NaN                   4             Sciety   \n\n      Lead Investors                             Lead Investors  \\\n8514               3  Fireside Ventures, GITS Foods, Madhu Kela   \n5934               1                             StartUp Health   \n9250               1                             AIM Smart City   \n8484             NaN                                        NaN   \n20217              1                                     Sciety   \n\n      Raised Series A  \n8514               No  \n5934               No  \n9250               No  \n8484               No  \n20217              No  ",
      "text/html": "<div>\n<style scoped>\n    .dataframe tbody tr th:only-of-type {\n        vertical-align: middle;\n    }\n\n    .dataframe tbody tr th {\n        vertical-align: top;\n    }\n\n    .dataframe thead th {\n        text-align: right;\n    }\n</style>\n<table border=\"1\" class=\"dataframe\">\n  <thead>\n    <tr style=\"text-align: right;\">\n      <th></th>\n      <th>Transaction Name</th>\n      <th>Transaction Name URL</th>\n      <th>Organization Name</th>\n      <th>Organization Name URL</th>\n      <th>Funding Type</th>\n      <th>Money Raised</th>\n      <th>Money Raised Currency</th>\n      <th>Money Raised Currency (in USD)</th>\n      <th>Announced Date</th>\n      <th>Total Funding Amount</th>\n      <th>Total Funding Amount Currency</th>\n      <th>Total Funding Amount Currency (in USD)</th>\n      <th>Organization Description</th>\n      <th>Organization Industries</th>\n      <th>Organization Location</th>\n      <th>Number of Investors</th>\n      <th>Investor Names</th>\n      <th>Lead Investors</th>\n      <th>Lead Investors</th>\n      <th>Raised Series A</th>\n    </tr>\n  </thead>\n  <tbody>\n    <tr>\n      <th>8514</th>\n      <td>Seed Round - Kapiva Ayurveda</td>\n      <td>https://www.crunchbase.com/funding_round/kapiv...</td>\n      <td>Kapiva Ayurveda</td>\n      <td>https://www.crunchbase.com/organization/kapiva...</td>\n      <td>Seed</td>\n      <td>2500000</td>\n      <td>USD</td>\n      <td>2500000.0</td>\n      <td>2019-01-25</td>\n      <td>2500000</td>\n      <td>USD</td>\n      <td>2500000</td>\n      <td>Kapiva Ayurveda is a fast-growing Ayurvedic fo...</td>\n      <td>E-Commerce, Retail</td>\n      <td>NaN</td>\n      <td>1</td>\n      <td>Fireside Ventures</td>\n      <td>3</td>\n      <td>Fireside Ventures, GITS Foods, Madhu Kela</td>\n      <td>No</td>\n    </tr>\n    <tr>\n      <th>5934</th>\n      <td>Seed Round - Bitgenia</td>\n      <td>https://www.crunchbase.com/funding_round/bitge...</td>\n      <td>Bitgenia</td>\n      <td>https://www.crunchbase.com/organization/bitgenia</td>\n      <td>Seed</td>\n      <td>NaN</td>\n      <td>NaN</td>\n      <td>NaN</td>\n      <td>2019-04-30</td>\n      <td>NaN</td>\n      <td>NaN</td>\n      <td>NaN</td>\n      <td>Bitgenia is an argentine bioinformatics compan...</td>\n      <td>Bioinformatics, Health Care</td>\n      <td>NaN</td>\n      <td>1</td>\n      <td>NaN</td>\n      <td>1</td>\n      <td>StartUp Health</td>\n      <td>No</td>\n    </tr>\n    <tr>\n      <th>9250</th>\n      <td>Seed Round - Watsan Envirotech</td>\n      <td>https://www.crunchbase.com/funding_round/watsa...</td>\n      <td>Watsan Envirotech</td>\n      <td>https://www.crunchbase.com/organization/watsan...</td>\n      <td>Seed</td>\n      <td>NaN</td>\n      <td>NaN</td>\n      <td>NaN</td>\n      <td>2019-01-01</td>\n      <td>NaN</td>\n      <td>NaN</td>\n      <td>NaN</td>\n      <td>Watsan Envirotech is a manufacturing company.</td>\n      <td>Manufacturing, Waste Management, Water Purific...</td>\n      <td>NaN</td>\n      <td>1</td>\n      <td>AIM Smart City</td>\n      <td>1</td>\n      <td>AIM Smart City</td>\n      <td>No</td>\n    </tr>\n    <tr>\n      <th>8484</th>\n      <td>Seed Round - RevenYOU - BOTS</td>\n      <td>https://www.crunchbase.com/funding_round/reven...</td>\n      <td>RevenYOU - BOTS</td>\n      <td>https://www.crunchbase.com/organization/revenyou</td>\n      <td>Seed</td>\n      <td>1800000</td>\n      <td>EUR</td>\n      <td>2036302.0</td>\n      <td>2019-01-24</td>\n      <td>5038000</td>\n      <td>EUR</td>\n      <td>5651225</td>\n      <td>RevenYOU gives the world access to automated t...</td>\n      <td>NaN</td>\n      <td>NaN</td>\n      <td>3</td>\n      <td>NaN</td>\n      <td>NaN</td>\n      <td>NaN</td>\n      <td>No</td>\n    </tr>\n    <tr>\n      <th>20217</th>\n      <td>Seed Round - Picture My Life</td>\n      <td>https://www.crunchbase.com/funding_round/pictu...</td>\n      <td>Picture My Life</td>\n      <td>https://www.crunchbase.com/organization/pictur...</td>\n      <td>Seed</td>\n      <td>196681</td>\n      <td>EUR</td>\n      <td>244031.0</td>\n      <td>2018-02-16</td>\n      <td>765396</td>\n      <td>USD</td>\n      <td>765396</td>\n      <td>Image-based communication tools that make life...</td>\n      <td>Apps, Computer, iOS, Mobile, Software</td>\n      <td>NaN</td>\n      <td>4</td>\n      <td>Sciety</td>\n      <td>1</td>\n      <td>Sciety</td>\n      <td>No</td>\n    </tr>\n  </tbody>\n</table>\n</div>"
     },
     "metadata": {},
     "execution_count": 74
    }
   ],
   "source": [
    "train.sample(5)"
   ]
  },
  {
   "cell_type": "code",
   "execution_count": 77,
   "metadata": {},
   "outputs": [],
   "source": [
    "def nlp_clean(z):\n",
    "    z['Organization Description'] = z['Organization Description'].apply(lambda x: x.lower())\n",
    "    z['Organization Industries'] = z['Organization Industries'].apply(lambda x: x.lower())\n",
    "    z['Organiztion Location'] = z['Organization Location'].apply(lambda x: x.lower())\n",
    "    z['Investor Names'] = z['Investor Names'].apply(lambda x: x.lower())\n",
    "    z['Lead Investors'] = z['Lead Investors'].apply(lambda x: x.lower())\n",
    "    return z \n"
   ]
  },
  {
   "cell_type": "code",
   "execution_count": null,
   "metadata": {},
   "outputs": [],
   "source": []
  }
 ],
 "metadata": {
  "language_info": {
   "codemirror_mode": {
    "name": "ipython",
    "version": 3
   },
   "file_extension": ".py",
   "mimetype": "text/x-python",
   "name": "python",
   "nbconvert_exporter": "python",
   "pygments_lexer": "ipython3",
   "version": "3.7.7-final"
  },
  "orig_nbformat": 2,
  "kernelspec": {
   "name": "python37764bitunit2condaf2d4faf30a5848cbbdf1cd45adcc297a",
   "display_name": "Python 3.7.7 64-bit ('unit2': conda)"
  }
 },
 "nbformat": 4,
 "nbformat_minor": 2
}