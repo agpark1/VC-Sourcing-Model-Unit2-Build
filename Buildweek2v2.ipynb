{
 "cells": [
  {
   "cell_type": "code",
   "execution_count": 130,
   "metadata": {},
   "outputs": [],
   "source": [
    "import pandas as pd\n",
    "import numpy as np\n",
    "#NLP Environment setup \n",
    "from collections import Counter \n",
    "\n",
    "#Plotting \n",
    "import squarify\n",
    "import matplotlib.pyplot as plt \n",
    "import seaborn as sns \n",
    "\n",
    "#NLP Libraries \n",
    "import re\n",
    "from nltk.stem import PorterStemmer\n",
    "import spacy\n",
    "from spacy.tokenizer import Tokenizer#NLP Environment setup \n",
    "from collections import Counter \n",
    "\n",
    "#Plotting \n",
    "import squarify\n",
    "import matplotlib.pyplot as plt \n",
    "import seaborn as sns \n",
    "\n",
    "#NLP Libraries \n",
    "import re\n",
    "from nltk.stem import PorterStemmer\n",
    "import spacy\n",
    "from spacy.tokenizer import Tokenizer\n"
   ]
  },
  {
   "cell_type": "code",
   "execution_count": 131,
   "metadata": {},
   "outputs": [],
   "source": [
    "df = pd.read_csv('/Users/noahpovis/Desktop/Buildweek22/Build Week 2 /DX.csv')\n"
   ]
  },
  {
   "cell_type": "code",
   "execution_count": 132,
   "metadata": {},
   "outputs": [],
   "source": [
    "train, val, test = np.split(df.sample(frac=1), [int(.6*len(df)), int(.8*len(df))])\n"
   ]
  },
  {
   "cell_type": "code",
   "execution_count": 133,
   "metadata": {},
   "outputs": [
    {
     "output_type": "execute_result",
     "data": {
      "text/plain": "(16278, 18)"
     },
     "metadata": {},
     "execution_count": 133
    }
   ],
   "source": [
    "train.shape"
   ]
  },
  {
   "cell_type": "code",
   "execution_count": 134,
   "metadata": {},
   "outputs": [
    {
     "output_type": "execute_result",
     "data": {
      "text/plain": "(5426, 18)"
     },
     "metadata": {},
     "execution_count": 134
    }
   ],
   "source": [
    "val.shape"
   ]
  },
  {
   "cell_type": "code",
   "execution_count": 135,
   "metadata": {},
   "outputs": [
    {
     "output_type": "execute_result",
     "data": {
      "text/plain": "(5427, 18)"
     },
     "metadata": {},
     "execution_count": 135
    }
   ],
   "source": [
    "test.shape"
   ]
  },
  {
   "cell_type": "code",
   "execution_count": 136,
   "metadata": {},
   "outputs": [],
   "source": [
    "def clean(i):\n",
    "    i = i.copy()\n",
    "    i.drop_duplicates(subset=['Organization Name','Funding Type'], inplace = True)\n",
    "    i.drop_duplicates(keep='first', inplace= True)\n",
    "    i['Raised Series A'] = np.where(i['Organization Name'].duplicated(), 'Yes', 'No')\n",
    "    i.drop_duplicates(subset='Organization Name', keep='last', inplace= True)\n",
    "    i['Money Raised Currency (in USD)'] = pd.to_numeric(i['Money Raised Currency (in USD)'], errors='coerce')\n",
    "    i['Total Funding Amount Currency (in USD)'] = pd.to_numeric(i['Total Funding Amount Currency (in USD)'], errors='coerce')\n",
    "    i['Announced Date'] = pd.to_datetime(i['Announced Date'], errors='coerce')\n",
    "    i['Total Funding Amount Currency (in USD)'] = pd.to_numeric(i['Total Funding Amount Currency (in USD)'], errors='coerce')\n",
    "    i  = i[i['Funding Type'] != 'Series A'] \n",
    "    return i \n",
    "\n",
    "\n",
    "\n",
    "\n",
    "\n",
    "\n",
    "\n",
    "\n",
    "\n"
   ]
  },
  {
   "cell_type": "code",
   "execution_count": 137,
   "metadata": {},
   "outputs": [],
   "source": [
    "train = clean(train)\n",
    "val = clean(val)\n",
    "test = clean(test)\n"
   ]
  },
  {
   "cell_type": "code",
   "execution_count": 138,
   "metadata": {},
   "outputs": [
    {
     "output_type": "execute_result",
     "data": {
      "text/plain": "No     12314\nYes      187\nName: Raised Series A, dtype: int64"
     },
     "metadata": {},
     "execution_count": 138
    }
   ],
   "source": [
    "train['Raised Series A'].value_counts()"
   ]
  },
  {
   "cell_type": "code",
   "execution_count": 139,
   "metadata": {},
   "outputs": [
    {
     "output_type": "execute_result",
     "data": {
      "text/plain": "((12501, 19), (4539, 19), (4532, 19))"
     },
     "metadata": {},
     "execution_count": 139
    }
   ],
   "source": [
    "train.shape , val.shape, test.shape"
   ]
  },
  {
   "cell_type": "code",
   "execution_count": 140,
   "metadata": {},
   "outputs": [
    {
     "output_type": "execute_result",
     "data": {
      "text/plain": "3577"
     },
     "metadata": {},
     "execution_count": 140
    }
   ],
   "source": [
    "train['Investor Names'].isnull().sum()"
   ]
  },
  {
   "cell_type": "code",
   "execution_count": 151,
   "metadata": {},
   "outputs": [],
   "source": [
    "def tokenize(text):\n",
    "    \n",
    "    tokens = re.sub('[ˆa-zA-Z0-9]', '', text)\n",
    "    tokens = tokens.lower().split()\n",
    "\n",
    "    return tokens \n"
   ]
  },
  {
   "cell_type": "code",
   "execution_count": 152,
   "metadata": {},
   "outputs": [
    {
     "output_type": "error",
     "ename": "TypeError",
     "evalue": "expected string or bytes-like object",
     "traceback": [
      "\u001b[0;31m---------------------------------------------------------------------------\u001b[0m",
      "\u001b[0;31mTypeError\u001b[0m                                 Traceback (most recent call last)",
      "\u001b[0;32m<ipython-input-152-7417f5c2a1d6>\u001b[0m in \u001b[0;36m<module>\u001b[0;34m\u001b[0m\n\u001b[0;32m----> 1\u001b[0;31m \u001b[0mtrain\u001b[0m \u001b[0;34m=\u001b[0m \u001b[0mtokenize\u001b[0m\u001b[0;34m(\u001b[0m\u001b[0mtrain\u001b[0m\u001b[0;34m)\u001b[0m\u001b[0;34m\u001b[0m\u001b[0;34m\u001b[0m\u001b[0m\n\u001b[0m\u001b[1;32m      2\u001b[0m \u001b[0mval\u001b[0m \u001b[0;34m=\u001b[0m \u001b[0mtokenize\u001b[0m\u001b[0;34m(\u001b[0m\u001b[0mval\u001b[0m\u001b[0;34m)\u001b[0m\u001b[0;34m\u001b[0m\u001b[0;34m\u001b[0m\u001b[0m\n\u001b[1;32m      3\u001b[0m \u001b[0mtest\u001b[0m \u001b[0;34m=\u001b[0m \u001b[0mtokenize\u001b[0m\u001b[0;34m(\u001b[0m\u001b[0mtest\u001b[0m\u001b[0;34m)\u001b[0m\u001b[0;34m\u001b[0m\u001b[0;34m\u001b[0m\u001b[0m\n",
      "\u001b[0;32m<ipython-input-151-4efa65cea373>\u001b[0m in \u001b[0;36mtokenize\u001b[0;34m(text)\u001b[0m\n\u001b[1;32m      1\u001b[0m \u001b[0;32mdef\u001b[0m \u001b[0mtokenize\u001b[0m\u001b[0;34m(\u001b[0m\u001b[0mtext\u001b[0m\u001b[0;34m)\u001b[0m\u001b[0;34m:\u001b[0m\u001b[0;34m\u001b[0m\u001b[0;34m\u001b[0m\u001b[0m\n\u001b[1;32m      2\u001b[0m \u001b[0;34m\u001b[0m\u001b[0m\n\u001b[0;32m----> 3\u001b[0;31m     \u001b[0mtokens\u001b[0m \u001b[0;34m=\u001b[0m \u001b[0mre\u001b[0m\u001b[0;34m.\u001b[0m\u001b[0msub\u001b[0m\u001b[0;34m(\u001b[0m\u001b[0;34m'[ˆa-zA-Z0-9]'\u001b[0m\u001b[0;34m,\u001b[0m \u001b[0;34m''\u001b[0m\u001b[0;34m,\u001b[0m \u001b[0mtext\u001b[0m\u001b[0;34m)\u001b[0m\u001b[0;34m\u001b[0m\u001b[0;34m\u001b[0m\u001b[0m\n\u001b[0m\u001b[1;32m      4\u001b[0m     \u001b[0mtokens\u001b[0m \u001b[0;34m=\u001b[0m \u001b[0mtokens\u001b[0m\u001b[0;34m.\u001b[0m\u001b[0mlower\u001b[0m\u001b[0;34m(\u001b[0m\u001b[0;34m)\u001b[0m\u001b[0;34m.\u001b[0m\u001b[0msplit\u001b[0m\u001b[0;34m(\u001b[0m\u001b[0;34m)\u001b[0m\u001b[0;34m\u001b[0m\u001b[0;34m\u001b[0m\u001b[0m\n\u001b[1;32m      5\u001b[0m \u001b[0;34m\u001b[0m\u001b[0m\n",
      "\u001b[0;32m~/opt/anaconda3/envs/unit2/lib/python3.7/re.py\u001b[0m in \u001b[0;36msub\u001b[0;34m(pattern, repl, string, count, flags)\u001b[0m\n\u001b[1;32m    190\u001b[0m     \u001b[0ma\u001b[0m \u001b[0mcallable\u001b[0m\u001b[0;34m,\u001b[0m \u001b[0mit\u001b[0m\u001b[0;31m'\u001b[0m\u001b[0ms\u001b[0m \u001b[0mpassed\u001b[0m \u001b[0mthe\u001b[0m \u001b[0mMatch\u001b[0m \u001b[0mobject\u001b[0m \u001b[0;32mand\u001b[0m \u001b[0mmust\u001b[0m \u001b[0;32mreturn\u001b[0m\u001b[0;34m\u001b[0m\u001b[0;34m\u001b[0m\u001b[0m\n\u001b[1;32m    191\u001b[0m     a replacement string to be used.\"\"\"\n\u001b[0;32m--> 192\u001b[0;31m     \u001b[0;32mreturn\u001b[0m \u001b[0m_compile\u001b[0m\u001b[0;34m(\u001b[0m\u001b[0mpattern\u001b[0m\u001b[0;34m,\u001b[0m \u001b[0mflags\u001b[0m\u001b[0;34m)\u001b[0m\u001b[0;34m.\u001b[0m\u001b[0msub\u001b[0m\u001b[0;34m(\u001b[0m\u001b[0mrepl\u001b[0m\u001b[0;34m,\u001b[0m \u001b[0mstring\u001b[0m\u001b[0;34m,\u001b[0m \u001b[0mcount\u001b[0m\u001b[0;34m)\u001b[0m\u001b[0;34m\u001b[0m\u001b[0;34m\u001b[0m\u001b[0m\n\u001b[0m\u001b[1;32m    193\u001b[0m \u001b[0;34m\u001b[0m\u001b[0m\n\u001b[1;32m    194\u001b[0m \u001b[0;32mdef\u001b[0m \u001b[0msubn\u001b[0m\u001b[0;34m(\u001b[0m\u001b[0mpattern\u001b[0m\u001b[0;34m,\u001b[0m \u001b[0mrepl\u001b[0m\u001b[0;34m,\u001b[0m \u001b[0mstring\u001b[0m\u001b[0;34m,\u001b[0m \u001b[0mcount\u001b[0m\u001b[0;34m=\u001b[0m\u001b[0;36m0\u001b[0m\u001b[0;34m,\u001b[0m \u001b[0mflags\u001b[0m\u001b[0;34m=\u001b[0m\u001b[0;36m0\u001b[0m\u001b[0;34m)\u001b[0m\u001b[0;34m:\u001b[0m\u001b[0;34m\u001b[0m\u001b[0;34m\u001b[0m\u001b[0m\n",
      "\u001b[0;31mTypeError\u001b[0m: expected string or bytes-like object"
     ]
    }
   ],
   "source": [
    "train = tokenize(train)\n",
    "val = tokenize(val)\n",
    "test = tokenize(test)\n"
   ]
  },
  {
   "cell_type": "code",
   "execution_count": 143,
   "metadata": {},
   "outputs": [
    {
     "output_type": "execute_result",
     "data": {
      "text/plain": "                Transaction Name  \\\n16059    Seed Round - LockinFuel   \n7268           Seed Round - NALA   \n7736       Seed Round - Neurocea   \n15735        Seed Round - Shoppo   \n16935  Seed Round - Supertripper   \n\n                                    Transaction Name URL Organization Name  \\\n16059  https://www.crunchbase.com/funding_round/locki...        LockinFuel   \n7268   https://www.crunchbase.com/funding_round/nala-...              NALA   \n7736   https://www.crunchbase.com/funding_round/neuro...          Neurocea   \n15735  https://www.crunchbase.com/funding_round/shopp...            Shoppo   \n16935  https://www.crunchbase.com/funding_round/super...      Supertripper   \n\n                                   Organization Name URL Funding Type  \\\n16059  https://www.crunchbase.com/organization/lockin...         Seed   \n7268   https://www.crunchbase.com/organization/nala-m...         Seed   \n7736    https://www.crunchbase.com/organization/neurocea         Seed   \n15735     https://www.crunchbase.com/organization/shoppo         Seed   \n16935  https://www.crunchbase.com/organization/supert...         Seed   \n\n      Money Raised Money Raised Currency  Money Raised Currency (in USD)  \\\n16059        38000                   USD                         38000.0   \n7268        150000                   USD                        150000.0   \n7736           NaN                   NaN                             NaN   \n15735      6000000                   USD                       6000000.0   \n16935          NaN                   NaN                             NaN   \n\n      Announced Date Total Funding Amount Total Funding Amount Currency  \\\n16059     2018-06-15                38000                           USD   \n7268      2019-03-18               200000                           USD   \n7736      2019-02-21                  NaN                           NaN   \n15735     2018-07-05              6000000                           USD   \n16935     2018-05-24              1000000                           EUR   \n\n       Total Funding Amount Currency (in USD)  \\\n16059                                 38000.0   \n7268                                 200000.0   \n7736                                      NaN   \n15735                               6000000.0   \n16935                               1119344.0   \n\n                                Organization Description  \\\n16059  LockinFuel is a fuel app that uses advanced ar...   \n7268   NALA is an application interface that makes pa...   \n7736   Neurocea is a biopharmaceutical company dedica...   \n15735     Shoppo is an AI-driven global retail platform.   \n16935  Supertripper is a global business management s...   \n\n                   Organization Industries  \\\n16059        Apps, Artificial Intelligence   \n7268           Banking, Financial Services   \n7736              Biopharma, Biotechnology   \n15735  Artificial Intelligence, E-Commerce   \n16935                               Travel   \n\n                                   Organization Location Lead Investors  \\\n16059        Sydney, New South Wales, Australia, Oceania            NaN   \n7268      Dar Es Salaam, Dar es Salaam, Tanzania, Africa   Y Combinator   \n7736   Los Altos, California, United States, North Am...            NaN   \n15735      Dover, Delaware, United States, North America    GGV Capital   \n16935               Paris, Ile-de-France, France, Europe    50 Partners   \n\n      Number of Investors                                     Investor Names  \\\n16059                 NaN                                                NaN   \n7268                    5  9Yards Capital, DFS Lab, The MBA Fund, Venture...   \n7736                  NaN                                                NaN   \n15735                   1                                        GGV Capital   \n16935                   1                                        50 Partners   \n\n      Raised Series A  \n16059              No  \n7268               No  \n7736               No  \n15735              No  \n16935              No  ",
      "text/html": "<div>\n<style scoped>\n    .dataframe tbody tr th:only-of-type {\n        vertical-align: middle;\n    }\n\n    .dataframe tbody tr th {\n        vertical-align: top;\n    }\n\n    .dataframe thead th {\n        text-align: right;\n    }\n</style>\n<table border=\"1\" class=\"dataframe\">\n  <thead>\n    <tr style=\"text-align: right;\">\n      <th></th>\n      <th>Transaction Name</th>\n      <th>Transaction Name URL</th>\n      <th>Organization Name</th>\n      <th>Organization Name URL</th>\n      <th>Funding Type</th>\n      <th>Money Raised</th>\n      <th>Money Raised Currency</th>\n      <th>Money Raised Currency (in USD)</th>\n      <th>Announced Date</th>\n      <th>Total Funding Amount</th>\n      <th>Total Funding Amount Currency</th>\n      <th>Total Funding Amount Currency (in USD)</th>\n      <th>Organization Description</th>\n      <th>Organization Industries</th>\n      <th>Organization Location</th>\n      <th>Lead Investors</th>\n      <th>Number of Investors</th>\n      <th>Investor Names</th>\n      <th>Raised Series A</th>\n    </tr>\n  </thead>\n  <tbody>\n    <tr>\n      <th>16059</th>\n      <td>Seed Round - LockinFuel</td>\n      <td>https://www.crunchbase.com/funding_round/locki...</td>\n      <td>LockinFuel</td>\n      <td>https://www.crunchbase.com/organization/lockin...</td>\n      <td>Seed</td>\n      <td>38000</td>\n      <td>USD</td>\n      <td>38000.0</td>\n      <td>2018-06-15</td>\n      <td>38000</td>\n      <td>USD</td>\n      <td>38000.0</td>\n      <td>LockinFuel is a fuel app that uses advanced ar...</td>\n      <td>Apps, Artificial Intelligence</td>\n      <td>Sydney, New South Wales, Australia, Oceania</td>\n      <td>NaN</td>\n      <td>NaN</td>\n      <td>NaN</td>\n      <td>No</td>\n    </tr>\n    <tr>\n      <th>7268</th>\n      <td>Seed Round - NALA</td>\n      <td>https://www.crunchbase.com/funding_round/nala-...</td>\n      <td>NALA</td>\n      <td>https://www.crunchbase.com/organization/nala-m...</td>\n      <td>Seed</td>\n      <td>150000</td>\n      <td>USD</td>\n      <td>150000.0</td>\n      <td>2019-03-18</td>\n      <td>200000</td>\n      <td>USD</td>\n      <td>200000.0</td>\n      <td>NALA is an application interface that makes pa...</td>\n      <td>Banking, Financial Services</td>\n      <td>Dar Es Salaam, Dar es Salaam, Tanzania, Africa</td>\n      <td>Y Combinator</td>\n      <td>5</td>\n      <td>9Yards Capital, DFS Lab, The MBA Fund, Venture...</td>\n      <td>No</td>\n    </tr>\n    <tr>\n      <th>7736</th>\n      <td>Seed Round - Neurocea</td>\n      <td>https://www.crunchbase.com/funding_round/neuro...</td>\n      <td>Neurocea</td>\n      <td>https://www.crunchbase.com/organization/neurocea</td>\n      <td>Seed</td>\n      <td>NaN</td>\n      <td>NaN</td>\n      <td>NaN</td>\n      <td>2019-02-21</td>\n      <td>NaN</td>\n      <td>NaN</td>\n      <td>NaN</td>\n      <td>Neurocea is a biopharmaceutical company dedica...</td>\n      <td>Biopharma, Biotechnology</td>\n      <td>Los Altos, California, United States, North Am...</td>\n      <td>NaN</td>\n      <td>NaN</td>\n      <td>NaN</td>\n      <td>No</td>\n    </tr>\n    <tr>\n      <th>15735</th>\n      <td>Seed Round - Shoppo</td>\n      <td>https://www.crunchbase.com/funding_round/shopp...</td>\n      <td>Shoppo</td>\n      <td>https://www.crunchbase.com/organization/shoppo</td>\n      <td>Seed</td>\n      <td>6000000</td>\n      <td>USD</td>\n      <td>6000000.0</td>\n      <td>2018-07-05</td>\n      <td>6000000</td>\n      <td>USD</td>\n      <td>6000000.0</td>\n      <td>Shoppo is an AI-driven global retail platform.</td>\n      <td>Artificial Intelligence, E-Commerce</td>\n      <td>Dover, Delaware, United States, North America</td>\n      <td>GGV Capital</td>\n      <td>1</td>\n      <td>GGV Capital</td>\n      <td>No</td>\n    </tr>\n    <tr>\n      <th>16935</th>\n      <td>Seed Round - Supertripper</td>\n      <td>https://www.crunchbase.com/funding_round/super...</td>\n      <td>Supertripper</td>\n      <td>https://www.crunchbase.com/organization/supert...</td>\n      <td>Seed</td>\n      <td>NaN</td>\n      <td>NaN</td>\n      <td>NaN</td>\n      <td>2018-05-24</td>\n      <td>1000000</td>\n      <td>EUR</td>\n      <td>1119344.0</td>\n      <td>Supertripper is a global business management s...</td>\n      <td>Travel</td>\n      <td>Paris, Ile-de-France, France, Europe</td>\n      <td>50 Partners</td>\n      <td>1</td>\n      <td>50 Partners</td>\n      <td>No</td>\n    </tr>\n  </tbody>\n</table>\n</div>"
     },
     "metadata": {},
     "execution_count": 143
    }
   ],
   "source": [
    "train.sample(5)"
   ]
  },
  {
   "cell_type": "code",
   "execution_count": 144,
   "metadata": {},
   "outputs": [],
   "source": [
    "#def nlp_clean(z):\n",
    "   # z['Organization Description'] = z['Organization Description'].apply(lambda x: x.lower())\n",
    "   # z['Organization Industries'] = z['Organization Industries'].str.lower()\n",
    "   # z['Organization Location'].astype(str)\n",
    "   # z['Organization Location'] = z['Organization Location'].str.lower()\n",
    "    #z['Investor Names'] = z['Investor Names'].str.lower()\n",
    "    #z['Lead Investors'] = z['Lead Investors'].str.lower()\n",
    "    #return z \n"
   ]
  }
 ],
 "metadata": {
  "language_info": {
   "codemirror_mode": {
    "name": "ipython",
    "version": 3
   },
   "file_extension": ".py",
   "mimetype": "text/x-python",
   "name": "python",
   "nbconvert_exporter": "python",
   "pygments_lexer": "ipython3",
   "version": "3.7.7-final"
  },
  "orig_nbformat": 2,
  "kernelspec": {
   "name": "python37764bitunit2condaf2d4faf30a5848cbbdf1cd45adcc297a",
   "display_name": "Python 3.7.7 64-bit ('unit2': conda)"
  }
 },
 "nbformat": 4,
 "nbformat_minor": 2
}