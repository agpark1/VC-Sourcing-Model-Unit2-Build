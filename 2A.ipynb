{
 "cells": [
  {
   "cell_type": "code",
   "execution_count": 133,
   "metadata": {},
   "outputs": [],
   "source": [
    "import pandas as pd\n",
    "import numpy as np\n"
   ]
  },
  {
   "cell_type": "code",
   "execution_count": 134,
   "metadata": {},
   "outputs": [],
   "source": [
    "df = pd.read_csv('/Users/noahpovis/Desktop/Buildweek22/Build Week 2 /DX.csv')\n",
    "\n"
   ]
  },
  {
   "cell_type": "code",
   "execution_count": 135,
   "metadata": {},
   "outputs": [],
   "source": [
    "def clean(i):\n",
    "    i = i.copy()\n",
    "    i.drop_duplicates(subset=['Organization Name','Funding Type'], inplace = True)\n",
    "    i.drop_duplicates(keep='first', inplace= True)\n",
    "    i['Raised Series A'] = np.where(i['Organization Name'].duplicated(), 1, 0)\n",
    "    i.drop_duplicates(subset='Organization Name', keep='last', inplace= True)\n",
    "    i['Money Raised Currency (in USD)'] = pd.to_numeric(i['Money Raised Currency (in USD)'], errors='coerce')\n",
    "    i['Total Funding Amount Currency (in USD)'] = pd.to_numeric(i['Total Funding Amount Currency (in USD)'], errors='coerce')\n",
    "    i['Announced Date'] = pd.to_datetime(i['Announced Date'], errors='coerce')\n",
    "    i['Total Funding Amount Currency (in USD)'] = pd.to_numeric(i['Total Funding Amount Currency (in USD)'], errors='coerce')\n",
    "    i  = i[i['Funding Type'] != 'Series A'] \n",
    "    return i "
   ]
  },
  {
   "cell_type": "code",
   "execution_count": 136,
   "metadata": {},
   "outputs": [],
   "source": [
    "df_clean = clean(df)"
   ]
  },
  {
   "cell_type": "code",
   "execution_count": 137,
   "metadata": {},
   "outputs": [],
   "source": [
    "def split_columns(text):\n",
    "    text = text.copy()\n",
    "    # new data frame with split value columns \n",
    "    new = text[\"Organization Industries\"].str.split(\",\", n = 7, expand = True) \n",
    "    # making separate first name column from new data frame \n",
    "    text[\"Primary Industry\"]= new[0] \n",
    "    # making separate last name column from new data frame \n",
    "    text[\"Sub_Ind\"]= new[1] \n",
    "    text[\"Sub_Ind2\"]= new[2]\n",
    "    text[\"Sub_Ind3\"]= new[3]\n",
    "    text[\"Sub_Ind4\"]= new[4]\n",
    "    text[\"Sub_Ind5\"]= new[5]\n",
    "    text[\"Sub_Ind6\"]= new[6]\n",
    "    text[\"Sub_Ind7\"]= new[7]\n",
    "    # Dropping old Name columns \n",
    "    text.drop(columns =[\"Organization Industries\"], inplace = True)\n",
    "\n",
    "    #same thing but for investor column \n",
    "    new1 = text[\"Investor Names\"].str.split(\",\", n = 11, expand = True) \n",
    "    # making separate first name column from new data frame \n",
    "    text[\"Investor1\"]= new1[0] \n",
    "    # making separate last name column from new data frame \n",
    "    text[\"Investor1\"]= new1[1] \n",
    "    text[\"Investor2\"]= new1[2]\n",
    "    text[\"Investor3\"]= new1[3]\n",
    "    text[\"Investor4\"]= new1[4]\n",
    "    text[\"Investor5\"]= new1[5]\n",
    "    text[\"Investor6\"]= new1[6]\n",
    "    text[\"Investor7\"]= new1[7]\n",
    "    text[\"Investor8\"]= new1[8]\n",
    "    text[\"Investor9\"]= new1[9]\n",
    "    text[\"Investor10\"]= new1[10]\n",
    "    text[\"Investor11\"]= new1[11]\n",
    "    # Dropping old Name columns \n",
    "    text.drop(columns =[\"Investor Names\"], inplace = True)\n",
    "    text.drop(columns =[\"Lead Investors\"], inplace = True)\n",
    "    text.drop(columns =[\"Number of Investors\"], inplace = True)\n",
    "    text.drop(columns =[\"Transaction Name\"], inplace = True)\n",
    "    text.drop(columns =[\"Transaction Name URL\"], inplace = True)\n",
    "    text.drop(columns =[\"Organization Name URL\"], inplace = True)\n",
    "    text.drop(columns =[\"Funding Type\"], inplace = True)\n",
    "    text.drop(columns =[\"Money Raised Currency\"], inplace = True)\n",
    "    text.drop(columns =[\"Total Funding Amount Currency\"], inplace = True)\n",
    "    text.drop(columns =[\"Total Funding Amount\"], inplace = True)\n",
    "    text.drop(columns =[\"Money Raised\"], inplace = True)\n",
    "    text = text[text['Money Raised Currency (in USD)'].notna()]\n",
    "    text = text[text['Organization Location'].notna()]\n",
    "    text = text[text['Primary Industry'].notna()]\n",
    "    text = text[text['Money Raised Currency (in USD)'].notna()]\n",
    "\n",
    "    \n",
    "\n",
    "\n",
    "\n",
    "    return text \n",
    "    \n"
   ]
  },
  {
   "cell_type": "code",
   "execution_count": 138,
   "metadata": {},
   "outputs": [],
   "source": [
    "df_split = split_columns(df_clean)"
   ]
  },
  {
   "cell_type": "code",
   "execution_count": 139,
   "metadata": {},
   "outputs": [],
   "source": [
    "def clean_null(a):\n",
    "    a['Primary Industry'].fillna('Not Listed', inplace = True)\n",
    "    a['Sub_Ind'].fillna('Not Listed', inplace = True)\n",
    "    a['Sub_Ind2'].fillna('Not Listed', inplace = True)\n",
    "    a['Sub_Ind3'].fillna('Not Listed', inplace = True)\n",
    "    a['Sub_Ind4'].fillna('Not Listed', inplace = True)\n",
    "    a['Sub_Ind5'].fillna('Not Listed', inplace = True)\n",
    "    a['Sub_Ind6'].fillna('Not Listed', inplace = True)\n",
    "    a['Sub_Ind7'].fillna('Not Listed', inplace = True)\n",
    "    a['Investor1'].fillna('Not Listed', inplace = True)\n",
    "    a['Investor2'].fillna('Not Listed', inplace = True)\n",
    "    a['Investor3'].fillna('Not Listed', inplace = True)\n",
    "    a['Investor4'].fillna('Not Listed', inplace = True)\n",
    "    a['Investor5'].fillna('Not Listed', inplace = True)\n",
    "    a['Investor6'].fillna('Not Listed', inplace = True)\n",
    "    a['Investor7'].fillna('Not Listed', inplace = True)\n",
    "    a['Investor8'].fillna('Not Listed', inplace = True)\n",
    "    a['Investor9'].fillna('Not Listed', inplace = True)\n",
    "    a['Investor10'].fillna('Not Listed', inplace = True)\n",
    "    a['Investor11'].fillna('Not Listed', inplace = True)\n",
    "    \n",
    "    return a \n",
    "\n",
    "\n",
    "\n"
   ]
  },
  {
   "cell_type": "code",
   "execution_count": 140,
   "metadata": {},
   "outputs": [
    {
     "output_type": "execute_result",
     "data": {
      "text/plain": "      Organization Name  Money Raised Currency (in USD) Announced Date  \\\n23009    Four Teknoloji                        200000.0     2019-12-17   \n5277            Pablito                        225000.0     2019-06-01   \n24940         Dataswift                       2254167.0     2019-09-19   \n6303         Small Door                       3500000.0     2019-04-30   \n15883         Triyosoft                        100000.0     2018-06-11   \n\n       Total Funding Amount Currency (in USD)  \\\n23009                                200000.0   \n5277                                 395000.0   \n24940                               2254167.0   \n6303                                3500000.0   \n15883                                100000.0   \n\n                                Organization Description  \\\n23009  Four Teknoloji is a producer of hydraulic and ...   \n5277   Shuttle Service and Software for Businesses, I...   \n24940  Dataswift is a AWS-like web services company f...   \n6303   Small Door provides veterinary services that a...   \n15883  SaaS Fintech Company with a Project Management...   \n\n                                   Organization Location  Raised Series A  \\\n23009                 Istanbul, Istanbul, Turkey, Europe                0   \n5277   Los Angeles, California, United States, North ...                0   \n24940  Cambridge, Cambridgeshire, United Kingdom, Europe                0   \n6303    New York, New York, United States, North America                0   \n15883            Toronto, Ontario, Canada, North America                0   \n\n               Primary Industry       Sub_Ind        Sub_Ind2  ...  \\\n23009  Industrial Manufacturing    Not Listed      Not Listed  ...   \n5277     Information Technology   Mobile Apps        Software  ...   \n24940    Information Technology      Internet        Software  ...   \n6303                Health Care       Medical             Pet  ...   \n15883                       B2B       Banking   Collaboration  ...   \n\n                          Investor2       Investor3    Investor4  \\\n23009                    Not Listed      Not Listed   Not Listed   \n5277                     Not Listed      Not Listed   Not Listed   \n24940   Pacific & Orient Properties      Not Listed   Not Listed   \n6303                 Jonathan Neman   Lerer Hippeau   Nat Turner   \n15883                    Not Listed      Not Listed   Not Listed   \n\n           Investor5         Investor6        Investor7  \\\n23009     Not Listed        Not Listed       Not Listed   \n5277      Not Listed        Not Listed       Not Listed   \n24940     Not Listed        Not Listed       Not Listed   \n6303    Nathaniel Ru   Neil Blumenthal   Nicolas Jammet   \n15883     Not Listed        Not Listed       Not Listed   \n\n                       Investor8       Investor9  Investor10  Investor11  \n23009                 Not Listed      Not Listed  Not Listed  Not Listed  \n5277                  Not Listed      Not Listed  Not Listed  Not Listed  \n24940                 Not Listed      Not Listed  Not Listed  Not Listed  \n6303    Primary Venture Partners   Zach Weinberg  Not Listed  Not Listed  \n15883                 Not Listed      Not Listed  Not Listed  Not Listed  \n\n[5 rows x 26 columns]",
      "text/html": "<div>\n<style scoped>\n    .dataframe tbody tr th:only-of-type {\n        vertical-align: middle;\n    }\n\n    .dataframe tbody tr th {\n        vertical-align: top;\n    }\n\n    .dataframe thead th {\n        text-align: right;\n    }\n</style>\n<table border=\"1\" class=\"dataframe\">\n  <thead>\n    <tr style=\"text-align: right;\">\n      <th></th>\n      <th>Organization Name</th>\n      <th>Money Raised Currency (in USD)</th>\n      <th>Announced Date</th>\n      <th>Total Funding Amount Currency (in USD)</th>\n      <th>Organization Description</th>\n      <th>Organization Location</th>\n      <th>Raised Series A</th>\n      <th>Primary Industry</th>\n      <th>Sub_Ind</th>\n      <th>Sub_Ind2</th>\n      <th>...</th>\n      <th>Investor2</th>\n      <th>Investor3</th>\n      <th>Investor4</th>\n      <th>Investor5</th>\n      <th>Investor6</th>\n      <th>Investor7</th>\n      <th>Investor8</th>\n      <th>Investor9</th>\n      <th>Investor10</th>\n      <th>Investor11</th>\n    </tr>\n  </thead>\n  <tbody>\n    <tr>\n      <th>23009</th>\n      <td>Four Teknoloji</td>\n      <td>200000.0</td>\n      <td>2019-12-17</td>\n      <td>200000.0</td>\n      <td>Four Teknoloji is a producer of hydraulic and ...</td>\n      <td>Istanbul, Istanbul, Turkey, Europe</td>\n      <td>0</td>\n      <td>Industrial Manufacturing</td>\n      <td>Not Listed</td>\n      <td>Not Listed</td>\n      <td>...</td>\n      <td>Not Listed</td>\n      <td>Not Listed</td>\n      <td>Not Listed</td>\n      <td>Not Listed</td>\n      <td>Not Listed</td>\n      <td>Not Listed</td>\n      <td>Not Listed</td>\n      <td>Not Listed</td>\n      <td>Not Listed</td>\n      <td>Not Listed</td>\n    </tr>\n    <tr>\n      <th>5277</th>\n      <td>Pablito</td>\n      <td>225000.0</td>\n      <td>2019-06-01</td>\n      <td>395000.0</td>\n      <td>Shuttle Service and Software for Businesses, I...</td>\n      <td>Los Angeles, California, United States, North ...</td>\n      <td>0</td>\n      <td>Information Technology</td>\n      <td>Mobile Apps</td>\n      <td>Software</td>\n      <td>...</td>\n      <td>Not Listed</td>\n      <td>Not Listed</td>\n      <td>Not Listed</td>\n      <td>Not Listed</td>\n      <td>Not Listed</td>\n      <td>Not Listed</td>\n      <td>Not Listed</td>\n      <td>Not Listed</td>\n      <td>Not Listed</td>\n      <td>Not Listed</td>\n    </tr>\n    <tr>\n      <th>24940</th>\n      <td>Dataswift</td>\n      <td>2254167.0</td>\n      <td>2019-09-19</td>\n      <td>2254167.0</td>\n      <td>Dataswift is a AWS-like web services company f...</td>\n      <td>Cambridge, Cambridgeshire, United Kingdom, Europe</td>\n      <td>0</td>\n      <td>Information Technology</td>\n      <td>Internet</td>\n      <td>Software</td>\n      <td>...</td>\n      <td>Pacific &amp; Orient Properties</td>\n      <td>Not Listed</td>\n      <td>Not Listed</td>\n      <td>Not Listed</td>\n      <td>Not Listed</td>\n      <td>Not Listed</td>\n      <td>Not Listed</td>\n      <td>Not Listed</td>\n      <td>Not Listed</td>\n      <td>Not Listed</td>\n    </tr>\n    <tr>\n      <th>6303</th>\n      <td>Small Door</td>\n      <td>3500000.0</td>\n      <td>2019-04-30</td>\n      <td>3500000.0</td>\n      <td>Small Door provides veterinary services that a...</td>\n      <td>New York, New York, United States, North America</td>\n      <td>0</td>\n      <td>Health Care</td>\n      <td>Medical</td>\n      <td>Pet</td>\n      <td>...</td>\n      <td>Jonathan Neman</td>\n      <td>Lerer Hippeau</td>\n      <td>Nat Turner</td>\n      <td>Nathaniel Ru</td>\n      <td>Neil Blumenthal</td>\n      <td>Nicolas Jammet</td>\n      <td>Primary Venture Partners</td>\n      <td>Zach Weinberg</td>\n      <td>Not Listed</td>\n      <td>Not Listed</td>\n    </tr>\n    <tr>\n      <th>15883</th>\n      <td>Triyosoft</td>\n      <td>100000.0</td>\n      <td>2018-06-11</td>\n      <td>100000.0</td>\n      <td>SaaS Fintech Company with a Project Management...</td>\n      <td>Toronto, Ontario, Canada, North America</td>\n      <td>0</td>\n      <td>B2B</td>\n      <td>Banking</td>\n      <td>Collaboration</td>\n      <td>...</td>\n      <td>Not Listed</td>\n      <td>Not Listed</td>\n      <td>Not Listed</td>\n      <td>Not Listed</td>\n      <td>Not Listed</td>\n      <td>Not Listed</td>\n      <td>Not Listed</td>\n      <td>Not Listed</td>\n      <td>Not Listed</td>\n      <td>Not Listed</td>\n    </tr>\n  </tbody>\n</table>\n<p>5 rows × 26 columns</p>\n</div>"
     },
     "metadata": {},
     "execution_count": 140
    }
   ],
   "source": [
    "data = clean_null(df_split)\n",
    "data.sample(5)"
   ]
  },
  {
   "cell_type": "code",
   "execution_count": 141,
   "metadata": {},
   "outputs": [
    {
     "output_type": "execute_result",
     "data": {
      "text/plain": "Organization Name                         0\nMoney Raised Currency (in USD)            0\nAnnounced Date                            0\nTotal Funding Amount Currency (in USD)    0\nOrganization Description                  0\nOrganization Location                     0\nRaised Series A                           0\nPrimary Industry                          0\nSub_Ind                                   0\nSub_Ind2                                  0\nSub_Ind3                                  0\nSub_Ind4                                  0\nSub_Ind5                                  0\nSub_Ind6                                  0\nSub_Ind7                                  0\nInvestor1                                 0\nInvestor2                                 0\nInvestor3                                 0\nInvestor4                                 0\nInvestor5                                 0\nInvestor6                                 0\nInvestor7                                 0\nInvestor8                                 0\nInvestor9                                 0\nInvestor10                                0\nInvestor11                                0\ndtype: int64"
     },
     "metadata": {},
     "execution_count": 141
    }
   ],
   "source": [
    "data.isnull().sum()"
   ]
  },
  {
   "cell_type": "code",
   "execution_count": 142,
   "metadata": {},
   "outputs": [],
   "source": [
    "#convert all to categories \n",
    "data[\"Organization Name\"] = data[\"Organization Name\"].astype('category')\n",
    "data[\"Organization Description\"] = data[\"Organization Description\"].astype('category')\n",
    "data[\"Organization Description\"] = data[\"Organization Description\"].astype('category')\n",
    "data[\"Organization Location\"] = data[\"Organization Location\"].astype('category')\n",
    "data[\"Primary Industry\"] = data[\"Primary Industry\"].astype('category')\n",
    "data[\"Sub_Ind\"] = data[\"Sub_Ind\"].astype('category')\n",
    "data[\"Sub_Ind2\"] = data[\"Sub_Ind2\"].astype('category')\n",
    "data[\"Sub_Ind3\"] = data[\"Sub_Ind3\"].astype('category')\n",
    "data[\"Sub_Ind4\"] = data[\"Sub_Ind4\"].astype('category')\n",
    "data[\"Sub_Ind5\"] = data[\"Sub_Ind5\"].astype('category')\n",
    "data[\"Sub_Ind6\"] = data[\"Sub_Ind6\"].astype('category')\n",
    "data[\"Sub_Ind7\"] = data[\"Sub_Ind7\"].astype('category')\n",
    "data[\"Investor1\"] = data[\"Investor1\"].astype('category')\n",
    "data[\"Investor2\"] = data[\"Investor2\"].astype('category')\n",
    "data[\"Investor3\"] = data[\"Investor3\"].astype('category')\n",
    "data[\"Investor4\"] = data[\"Investor4\"].astype('category')\n",
    "data[\"Investor5\"] = data[\"Investor5\"].astype('category')\n",
    "data[\"Investor6\"] = data[\"Investor6\"].astype('category')\n",
    "data[\"Investor7\"] = data[\"Investor7\"].astype('category')\n",
    "data[\"Investor8\"] = data[\"Investor8\"].astype('category')\n",
    "data[\"Investor9\"] = data[\"Investor9\"].astype('category')\n",
    "data[\"Investor10\"] = data[\"Investor10\"].astype('category')\n",
    "data[\"Investor11\"] = data[\"Investor11\"].astype('category')"
   ]
  },
  {
   "cell_type": "code",
   "execution_count": 143,
   "metadata": {},
   "outputs": [
    {
     "output_type": "execute_result",
     "data": {
      "text/plain": "Organization Name                               category\nMoney Raised Currency (in USD)                   float64\nAnnounced Date                            datetime64[ns]\nTotal Funding Amount Currency (in USD)           float64\nOrganization Description                        category\nOrganization Location                           category\nRaised Series A                                    int64\nPrimary Industry                                category\nSub_Ind                                         category\nSub_Ind2                                        category\nSub_Ind3                                        category\nSub_Ind4                                        category\nSub_Ind5                                        category\nSub_Ind6                                        category\nSub_Ind7                                        category\nInvestor1                                       category\nInvestor2                                       category\nInvestor3                                       category\nInvestor4                                       category\nInvestor5                                       category\nInvestor6                                       category\nInvestor7                                       category\nInvestor8                                       category\nInvestor9                                       category\nInvestor10                                      category\nInvestor11                                      category\ndtype: object"
     },
     "metadata": {},
     "execution_count": 143
    }
   ],
   "source": [
    "data.dtypes"
   ]
  },
  {
   "cell_type": "code",
   "execution_count": 144,
   "metadata": {},
   "outputs": [],
   "source": [
    "#from sklearn import preprocessing\n",
    "#enc = preprocessing.OrdinalEncoder()"
   ]
  },
  {
   "cell_type": "code",
   "execution_count": 145,
   "metadata": {},
   "outputs": [],
   "source": [
    "#features = ['Organization Name','Organization Description','Organization Location','Raised Series A','Primary Industry','Sub_Ind','Sub_Ind2','Sub_Ind3','Sub_Ind4','Sub_Ind5','Sub_Ind6','Sub_Ind7','Investor1','Investor2','Investor3','Investor4','Investor5','Investor6','Investor7','Investor8','Investor9','Investor10','Investor11']"
   ]
  },
  {
   "cell_type": "code",
   "execution_count": 146,
   "metadata": {},
   "outputs": [],
   "source": [
    "#data_encoded = enc.fit(data[features])"
   ]
  },
  {
   "cell_type": "code",
   "execution_count": 147,
   "metadata": {},
   "outputs": [],
   "source": [
    "raised = data[data['Raised Series A'] == 1] "
   ]
  },
  {
   "cell_type": "code",
   "execution_count": 148,
   "metadata": {},
   "outputs": [
    {
     "output_type": "execute_result",
     "data": {
      "text/plain": "                              Organization Name  \\\n14616                                    TemTem   \n5944                                 Get Energy   \n19136                          LIfT BioSciences   \n14891  TECHBOOZE CONSULTANCY SERVICES PVT. LTD.   \n12336                              Young Alfred   \n\n       Money Raised Currency (in USD) Announced Date  \\\n14616                       1700000.0     2018-07-29   \n5944                         100000.0     2019-04-30   \n19136                        431833.0     2018-03-22   \n14891                       1000000.0     2018-07-17   \n12336                       1750000.0     2018-10-08   \n\n       Total Funding Amount Currency (in USD)  \\\n14616                               5700000.0   \n5944                                 310000.0   \n19136                               2843854.0   \n14891                              16000000.0   \n12336                              12250000.0   \n\n                                Organization Description  \\\n14616                 TemTem is a ride-hailing  company.   \n5944   Get Energy is an information technology compan...   \n19136  LIfT BioSciences is a socially-minded Biotech ...   \n14891  Techbooze[1] \"AN OPEN FORUM\" is a service base...   \n12336  Young Alfred is an online marketplace to easil...   \n\n                                   Organization Location  Raised Series A  \\\n14616                    Algiers, Alger, Algeria, Africa                1   \n5944     Moscow, Moscow City, Russian Federation, Europe                1   \n19136            London, England, United Kingdom, Europe                1   \n14891                      New Delhi, Delhi, India, Asia                1   \n12336  Philadelphia, Pennsylvania, United States, Nor...                1   \n\n             Primary Industry         Sub_Ind       Sub_Ind2  ...  \\\n14616                Internet     Mobile Apps   Taxi Service  ...   \n5944   Information Technology        Software     Not Listed  ...   \n19136               Biopharma   Biotechnology    Health Care  ...   \n14891    Business Development      Consulting     Not Listed  ...   \n12336      Financial Services         FinTech      Insurance  ...   \n\n              Investor2       Investor3   Investor4   Investor5   Investor6  \\\n14616        Not Listed      Not Listed  Not Listed  Not Listed  Not Listed   \n5944         Not Listed      Not Listed  Not Listed  Not Listed  Not Listed   \n19136        Not Listed      Not Listed  Not Listed  Not Listed  Not Listed   \n14891        Not Listed      Not Listed  Not Listed  Not Listed  Not Listed   \n12336   Newfund Capital   Pear Ventures  Not Listed  Not Listed  Not Listed   \n\n        Investor7   Investor8   Investor9  Investor10  Investor11  \n14616  Not Listed  Not Listed  Not Listed  Not Listed  Not Listed  \n5944   Not Listed  Not Listed  Not Listed  Not Listed  Not Listed  \n19136  Not Listed  Not Listed  Not Listed  Not Listed  Not Listed  \n14891  Not Listed  Not Listed  Not Listed  Not Listed  Not Listed  \n12336  Not Listed  Not Listed  Not Listed  Not Listed  Not Listed  \n\n[5 rows x 26 columns]",
      "text/html": "<div>\n<style scoped>\n    .dataframe tbody tr th:only-of-type {\n        vertical-align: middle;\n    }\n\n    .dataframe tbody tr th {\n        vertical-align: top;\n    }\n\n    .dataframe thead th {\n        text-align: right;\n    }\n</style>\n<table border=\"1\" class=\"dataframe\">\n  <thead>\n    <tr style=\"text-align: right;\">\n      <th></th>\n      <th>Organization Name</th>\n      <th>Money Raised Currency (in USD)</th>\n      <th>Announced Date</th>\n      <th>Total Funding Amount Currency (in USD)</th>\n      <th>Organization Description</th>\n      <th>Organization Location</th>\n      <th>Raised Series A</th>\n      <th>Primary Industry</th>\n      <th>Sub_Ind</th>\n      <th>Sub_Ind2</th>\n      <th>...</th>\n      <th>Investor2</th>\n      <th>Investor3</th>\n      <th>Investor4</th>\n      <th>Investor5</th>\n      <th>Investor6</th>\n      <th>Investor7</th>\n      <th>Investor8</th>\n      <th>Investor9</th>\n      <th>Investor10</th>\n      <th>Investor11</th>\n    </tr>\n  </thead>\n  <tbody>\n    <tr>\n      <th>14616</th>\n      <td>TemTem</td>\n      <td>1700000.0</td>\n      <td>2018-07-29</td>\n      <td>5700000.0</td>\n      <td>TemTem is a ride-hailing  company.</td>\n      <td>Algiers, Alger, Algeria, Africa</td>\n      <td>1</td>\n      <td>Internet</td>\n      <td>Mobile Apps</td>\n      <td>Taxi Service</td>\n      <td>...</td>\n      <td>Not Listed</td>\n      <td>Not Listed</td>\n      <td>Not Listed</td>\n      <td>Not Listed</td>\n      <td>Not Listed</td>\n      <td>Not Listed</td>\n      <td>Not Listed</td>\n      <td>Not Listed</td>\n      <td>Not Listed</td>\n      <td>Not Listed</td>\n    </tr>\n    <tr>\n      <th>5944</th>\n      <td>Get Energy</td>\n      <td>100000.0</td>\n      <td>2019-04-30</td>\n      <td>310000.0</td>\n      <td>Get Energy is an information technology compan...</td>\n      <td>Moscow, Moscow City, Russian Federation, Europe</td>\n      <td>1</td>\n      <td>Information Technology</td>\n      <td>Software</td>\n      <td>Not Listed</td>\n      <td>...</td>\n      <td>Not Listed</td>\n      <td>Not Listed</td>\n      <td>Not Listed</td>\n      <td>Not Listed</td>\n      <td>Not Listed</td>\n      <td>Not Listed</td>\n      <td>Not Listed</td>\n      <td>Not Listed</td>\n      <td>Not Listed</td>\n      <td>Not Listed</td>\n    </tr>\n    <tr>\n      <th>19136</th>\n      <td>LIfT BioSciences</td>\n      <td>431833.0</td>\n      <td>2018-03-22</td>\n      <td>2843854.0</td>\n      <td>LIfT BioSciences is a socially-minded Biotech ...</td>\n      <td>London, England, United Kingdom, Europe</td>\n      <td>1</td>\n      <td>Biopharma</td>\n      <td>Biotechnology</td>\n      <td>Health Care</td>\n      <td>...</td>\n      <td>Not Listed</td>\n      <td>Not Listed</td>\n      <td>Not Listed</td>\n      <td>Not Listed</td>\n      <td>Not Listed</td>\n      <td>Not Listed</td>\n      <td>Not Listed</td>\n      <td>Not Listed</td>\n      <td>Not Listed</td>\n      <td>Not Listed</td>\n    </tr>\n    <tr>\n      <th>14891</th>\n      <td>TECHBOOZE CONSULTANCY SERVICES PVT. LTD.</td>\n      <td>1000000.0</td>\n      <td>2018-07-17</td>\n      <td>16000000.0</td>\n      <td>Techbooze[1] \"AN OPEN FORUM\" is a service base...</td>\n      <td>New Delhi, Delhi, India, Asia</td>\n      <td>1</td>\n      <td>Business Development</td>\n      <td>Consulting</td>\n      <td>Not Listed</td>\n      <td>...</td>\n      <td>Not Listed</td>\n      <td>Not Listed</td>\n      <td>Not Listed</td>\n      <td>Not Listed</td>\n      <td>Not Listed</td>\n      <td>Not Listed</td>\n      <td>Not Listed</td>\n      <td>Not Listed</td>\n      <td>Not Listed</td>\n      <td>Not Listed</td>\n    </tr>\n    <tr>\n      <th>12336</th>\n      <td>Young Alfred</td>\n      <td>1750000.0</td>\n      <td>2018-10-08</td>\n      <td>12250000.0</td>\n      <td>Young Alfred is an online marketplace to easil...</td>\n      <td>Philadelphia, Pennsylvania, United States, Nor...</td>\n      <td>1</td>\n      <td>Financial Services</td>\n      <td>FinTech</td>\n      <td>Insurance</td>\n      <td>...</td>\n      <td>Newfund Capital</td>\n      <td>Pear Ventures</td>\n      <td>Not Listed</td>\n      <td>Not Listed</td>\n      <td>Not Listed</td>\n      <td>Not Listed</td>\n      <td>Not Listed</td>\n      <td>Not Listed</td>\n      <td>Not Listed</td>\n      <td>Not Listed</td>\n    </tr>\n  </tbody>\n</table>\n<p>5 rows × 26 columns</p>\n</div>"
     },
     "metadata": {},
     "execution_count": 148
    }
   ],
   "source": [
    "raised.sample(5)"
   ]
  },
  {
   "cell_type": "code",
   "execution_count": 158,
   "metadata": {},
   "outputs": [
    {
     "output_type": "execute_result",
     "data": {
      "text/plain": "0    0.942486\n1    0.057514\nName: Raised Series A, dtype: float64"
     },
     "metadata": {},
     "execution_count": 158
    }
   ],
   "source": [
    "#the baseline \n",
    "data['Raised Series A'].value_counts(normalize=True)"
   ]
  },
  {
   "cell_type": "code",
   "execution_count": 149,
   "metadata": {},
   "outputs": [],
   "source": [
    "x = data.drop(columns=['Raised Series A', 'Announced Date'])\n",
    "y = data['Raised Series A']"
   ]
  },
  {
   "cell_type": "code",
   "execution_count": 150,
   "metadata": {},
   "outputs": [],
   "source": [
    "from sklearn.model_selection import train_test_split\n",
    "X_train, X_test, y_train, y_test = train_test_split(x, y, test_size=0.33, random_state=42)\n"
   ]
  },
  {
   "cell_type": "code",
   "execution_count": 151,
   "metadata": {},
   "outputs": [
    {
     "output_type": "execute_result",
     "data": {
      "text/plain": "((8457, 24), (4166, 24), (8457,), (4166,))"
     },
     "metadata": {},
     "execution_count": 151
    }
   ],
   "source": [
    "X_train.shape , X_test.shape, y_train.shape, y_test.shape"
   ]
  },
  {
   "cell_type": "code",
   "execution_count": 152,
   "metadata": {},
   "outputs": [],
   "source": [
    "X_train.drop(columns =[\"Total Funding Amount Currency (in USD)\"], inplace = True)\n",
    "X_test.drop(columns =[\"Total Funding Amount Currency (in USD)\"], inplace = True)"
   ]
  },
  {
   "cell_type": "code",
   "execution_count": 153,
   "metadata": {},
   "outputs": [],
   "source": [
    "import category_encoders as ce\n",
    "from sklearn.impute import SimpleImputer\n",
    "from xgboost import XGBClassifier\n",
    "from sklearn.pipeline import make_pipeline\n",
    "from sklearn.metrics import recall_score\n",
    "from sklearn.model_selection import cross_val_score\n",
    "from sklearn.metrics import accuracy_score\n",
    "from sklearn.metrics import precision_score\n",
    "from sklearn.metrics import precision_recall_curve\n",
    "\n",
    "pipeline = make_pipeline(\n",
    "    ce.OrdinalEncoder(),\n",
    "    SimpleImputer(strategy='median'),\n",
    "    XGBClassifier(n_estimators=100,\n",
    "                  random_state=42,\n",
    "                  n_jobs=-1          \n",
    ")\n",
    ")\n",
    "\n",
    "\n",
    "\n",
    "\n",
    "pipe = pipeline.fit(X_train, y_train);\n"
   ]
  },
  {
   "cell_type": "code",
   "execution_count": 154,
   "metadata": {
    "tags": []
   },
   "outputs": [
    {
     "output_type": "stream",
     "name": "stdout",
     "text": "XGBoost Classifier val Recall Accuracy: 0.7728194726166329\nXGBoost Classifier val Accuracy Score: 0.9867565330495448\nXGBoost Classifier val Precision Accuracy: 1.0\n"
    }
   ],
   "source": [
    "xgb_train = pipe.predict(X_train)\n",
    "print(\"XGBoost Classifier val Recall Accuracy:\", recall_score(y_train, xgb_train))\n",
    "print(\"XGBoost Classifier val Accuracy Score:\", accuracy_score(y_train, xgb_train))\n",
    "print(\"XGBoost Classifier val Precision Accuracy:\", precision_score(y_train, xgb_train))"
   ]
  },
  {
   "cell_type": "code",
   "execution_count": 155,
   "metadata": {},
   "outputs": [],
   "source": [
    "from sklearn.metrics import roc_auc_score\n",
    "from sklearn.metrics import classification_report\n",
    "from sklearn.metrics import precision_recall_curve"
   ]
  },
  {
   "cell_type": "code",
   "execution_count": 156,
   "metadata": {
    "tags": []
   },
   "outputs": [
    {
     "output_type": "stream",
     "name": "stdout",
     "text": "precision    recall  f1-score   support\n\n           0       0.95      0.98      0.96      3933\n           1       0.18      0.06      0.09       233\n\n    accuracy                           0.93      4166\n   macro avg       0.56      0.52      0.53      4166\nweighted avg       0.90      0.93      0.92      4166\n\n"
    }
   ],
   "source": [
    "#run test predictions \n",
    "predictions = pipe.predict(X_test)\n",
    "print(classification_report(y_test, predictions))"
   ]
  },
  {
   "cell_type": "code",
   "execution_count": null,
   "metadata": {},
   "outputs": [],
   "source": [
    "#look into creating an optimal threshold and create a few graphs like confusion matrix, roc-auc curve "
   ]
  },
  {
   "cell_type": "code",
   "execution_count": 107,
   "metadata": {},
   "outputs": [],
   "source": [
    "#import smote \n",
    "from imblearn.over_sampling import SMOTENC"
   ]
  },
  {
   "cell_type": "code",
   "execution_count": 108,
   "metadata": {},
   "outputs": [],
   "source": [
    "smote_nc = SMOTENC(categorical_features=[data.dtypes==object], random_state=0)"
   ]
  },
  {
   "cell_type": "code",
   "execution_count": 109,
   "metadata": {},
   "outputs": [
    {
     "output_type": "error",
     "ename": "ValueError",
     "evalue": "could not convert string to float: 'Xperiti'",
     "traceback": [
      "\u001b[0;31m---------------------------------------------------------------------------\u001b[0m",
      "\u001b[0;31mValueError\u001b[0m                                Traceback (most recent call last)",
      "\u001b[0;32m<ipython-input-109-65ca0fda087b>\u001b[0m in \u001b[0;36m<module>\u001b[0;34m\u001b[0m\n\u001b[0;32m----> 1\u001b[0;31m \u001b[0mx_resampled\u001b[0m\u001b[0;34m,\u001b[0m \u001b[0my_resampled\u001b[0m \u001b[0;34m=\u001b[0m \u001b[0msmote_nc\u001b[0m\u001b[0;34m.\u001b[0m\u001b[0mfit_resample\u001b[0m\u001b[0;34m(\u001b[0m\u001b[0mx\u001b[0m\u001b[0;34m,\u001b[0m \u001b[0my\u001b[0m\u001b[0;34m)\u001b[0m\u001b[0;34m\u001b[0m\u001b[0;34m\u001b[0m\u001b[0m\n\u001b[0m",
      "\u001b[0;32m~/opt/anaconda3/envs/unit2/lib/python3.7/site-packages/imblearn/base.py\u001b[0m in \u001b[0;36mfit_resample\u001b[0;34m(self, X, y)\u001b[0m\n\u001b[1;32m     81\u001b[0m         )\n\u001b[1;32m     82\u001b[0m \u001b[0;34m\u001b[0m\u001b[0m\n\u001b[0;32m---> 83\u001b[0;31m         \u001b[0moutput\u001b[0m \u001b[0;34m=\u001b[0m \u001b[0mself\u001b[0m\u001b[0;34m.\u001b[0m\u001b[0m_fit_resample\u001b[0m\u001b[0;34m(\u001b[0m\u001b[0mX\u001b[0m\u001b[0;34m,\u001b[0m \u001b[0my\u001b[0m\u001b[0;34m)\u001b[0m\u001b[0;34m\u001b[0m\u001b[0;34m\u001b[0m\u001b[0m\n\u001b[0m\u001b[1;32m     84\u001b[0m \u001b[0;34m\u001b[0m\u001b[0m\n\u001b[1;32m     85\u001b[0m         y_ = (label_binarize(output[1], np.unique(y))\n",
      "\u001b[0;32m~/opt/anaconda3/envs/unit2/lib/python3.7/site-packages/imblearn/over_sampling/_smote.py\u001b[0m in \u001b[0;36m_fit_resample\u001b[0;34m(self, X, y)\u001b[0m\n\u001b[1;32m    943\u001b[0m \u001b[0;34m\u001b[0m\u001b[0m\n\u001b[1;32m    944\u001b[0m         \u001b[0mX_continuous\u001b[0m \u001b[0;34m=\u001b[0m \u001b[0mX\u001b[0m\u001b[0;34m[\u001b[0m\u001b[0;34m:\u001b[0m\u001b[0;34m,\u001b[0m \u001b[0mself\u001b[0m\u001b[0;34m.\u001b[0m\u001b[0mcontinuous_features_\u001b[0m\u001b[0;34m]\u001b[0m\u001b[0;34m\u001b[0m\u001b[0;34m\u001b[0m\u001b[0m\n\u001b[0;32m--> 945\u001b[0;31m         \u001b[0mX_continuous\u001b[0m \u001b[0;34m=\u001b[0m \u001b[0mcheck_array\u001b[0m\u001b[0;34m(\u001b[0m\u001b[0mX_continuous\u001b[0m\u001b[0;34m,\u001b[0m \u001b[0maccept_sparse\u001b[0m\u001b[0;34m=\u001b[0m\u001b[0;34m[\u001b[0m\u001b[0;34m\"csr\"\u001b[0m\u001b[0;34m,\u001b[0m \u001b[0;34m\"csc\"\u001b[0m\u001b[0;34m]\u001b[0m\u001b[0;34m)\u001b[0m\u001b[0;34m\u001b[0m\u001b[0;34m\u001b[0m\u001b[0m\n\u001b[0m\u001b[1;32m    946\u001b[0m         X_minority = _safe_indexing(\n\u001b[1;32m    947\u001b[0m             \u001b[0mX_continuous\u001b[0m\u001b[0;34m,\u001b[0m \u001b[0mnp\u001b[0m\u001b[0;34m.\u001b[0m\u001b[0mflatnonzero\u001b[0m\u001b[0;34m(\u001b[0m\u001b[0my\u001b[0m \u001b[0;34m==\u001b[0m \u001b[0mclass_minority\u001b[0m\u001b[0;34m)\u001b[0m\u001b[0;34m\u001b[0m\u001b[0;34m\u001b[0m\u001b[0m\n",
      "\u001b[0;32m~/opt/anaconda3/envs/unit2/lib/python3.7/site-packages/sklearn/utils/validation.py\u001b[0m in \u001b[0;36minner_f\u001b[0;34m(*args, **kwargs)\u001b[0m\n\u001b[1;32m     71\u001b[0m                           FutureWarning)\n\u001b[1;32m     72\u001b[0m         \u001b[0mkwargs\u001b[0m\u001b[0;34m.\u001b[0m\u001b[0mupdate\u001b[0m\u001b[0;34m(\u001b[0m\u001b[0;34m{\u001b[0m\u001b[0mk\u001b[0m\u001b[0;34m:\u001b[0m \u001b[0marg\u001b[0m \u001b[0;32mfor\u001b[0m \u001b[0mk\u001b[0m\u001b[0;34m,\u001b[0m \u001b[0marg\u001b[0m \u001b[0;32min\u001b[0m \u001b[0mzip\u001b[0m\u001b[0;34m(\u001b[0m\u001b[0msig\u001b[0m\u001b[0;34m.\u001b[0m\u001b[0mparameters\u001b[0m\u001b[0;34m,\u001b[0m \u001b[0margs\u001b[0m\u001b[0;34m)\u001b[0m\u001b[0;34m}\u001b[0m\u001b[0;34m)\u001b[0m\u001b[0;34m\u001b[0m\u001b[0;34m\u001b[0m\u001b[0m\n\u001b[0;32m---> 73\u001b[0;31m         \u001b[0;32mreturn\u001b[0m \u001b[0mf\u001b[0m\u001b[0;34m(\u001b[0m\u001b[0;34m**\u001b[0m\u001b[0mkwargs\u001b[0m\u001b[0;34m)\u001b[0m\u001b[0;34m\u001b[0m\u001b[0;34m\u001b[0m\u001b[0m\n\u001b[0m\u001b[1;32m     74\u001b[0m     \u001b[0;32mreturn\u001b[0m \u001b[0minner_f\u001b[0m\u001b[0;34m\u001b[0m\u001b[0;34m\u001b[0m\u001b[0m\n\u001b[1;32m     75\u001b[0m \u001b[0;34m\u001b[0m\u001b[0m\n",
      "\u001b[0;32m~/opt/anaconda3/envs/unit2/lib/python3.7/site-packages/sklearn/utils/validation.py\u001b[0m in \u001b[0;36mcheck_array\u001b[0;34m(array, accept_sparse, accept_large_sparse, dtype, order, copy, force_all_finite, ensure_2d, allow_nd, ensure_min_samples, ensure_min_features, estimator)\u001b[0m\n\u001b[1;32m    597\u001b[0m                     \u001b[0marray\u001b[0m \u001b[0;34m=\u001b[0m \u001b[0marray\u001b[0m\u001b[0;34m.\u001b[0m\u001b[0mastype\u001b[0m\u001b[0;34m(\u001b[0m\u001b[0mdtype\u001b[0m\u001b[0;34m,\u001b[0m \u001b[0mcasting\u001b[0m\u001b[0;34m=\u001b[0m\u001b[0;34m\"unsafe\"\u001b[0m\u001b[0;34m,\u001b[0m \u001b[0mcopy\u001b[0m\u001b[0;34m=\u001b[0m\u001b[0;32mFalse\u001b[0m\u001b[0;34m)\u001b[0m\u001b[0;34m\u001b[0m\u001b[0;34m\u001b[0m\u001b[0m\n\u001b[1;32m    598\u001b[0m                 \u001b[0;32melse\u001b[0m\u001b[0;34m:\u001b[0m\u001b[0;34m\u001b[0m\u001b[0;34m\u001b[0m\u001b[0m\n\u001b[0;32m--> 599\u001b[0;31m                     \u001b[0marray\u001b[0m \u001b[0;34m=\u001b[0m \u001b[0mnp\u001b[0m\u001b[0;34m.\u001b[0m\u001b[0masarray\u001b[0m\u001b[0;34m(\u001b[0m\u001b[0marray\u001b[0m\u001b[0;34m,\u001b[0m \u001b[0morder\u001b[0m\u001b[0;34m=\u001b[0m\u001b[0morder\u001b[0m\u001b[0;34m,\u001b[0m \u001b[0mdtype\u001b[0m\u001b[0;34m=\u001b[0m\u001b[0mdtype\u001b[0m\u001b[0;34m)\u001b[0m\u001b[0;34m\u001b[0m\u001b[0;34m\u001b[0m\u001b[0m\n\u001b[0m\u001b[1;32m    600\u001b[0m             \u001b[0;32mexcept\u001b[0m \u001b[0mComplexWarning\u001b[0m\u001b[0;34m:\u001b[0m\u001b[0;34m\u001b[0m\u001b[0;34m\u001b[0m\u001b[0m\n\u001b[1;32m    601\u001b[0m                 raise ValueError(\"Complex data not supported\\n\"\n",
      "\u001b[0;32m~/opt/anaconda3/envs/unit2/lib/python3.7/site-packages/numpy/core/_asarray.py\u001b[0m in \u001b[0;36masarray\u001b[0;34m(a, dtype, order)\u001b[0m\n\u001b[1;32m     83\u001b[0m \u001b[0;34m\u001b[0m\u001b[0m\n\u001b[1;32m     84\u001b[0m     \"\"\"\n\u001b[0;32m---> 85\u001b[0;31m     \u001b[0;32mreturn\u001b[0m \u001b[0marray\u001b[0m\u001b[0;34m(\u001b[0m\u001b[0ma\u001b[0m\u001b[0;34m,\u001b[0m \u001b[0mdtype\u001b[0m\u001b[0;34m,\u001b[0m \u001b[0mcopy\u001b[0m\u001b[0;34m=\u001b[0m\u001b[0;32mFalse\u001b[0m\u001b[0;34m,\u001b[0m \u001b[0morder\u001b[0m\u001b[0;34m=\u001b[0m\u001b[0morder\u001b[0m\u001b[0;34m)\u001b[0m\u001b[0;34m\u001b[0m\u001b[0;34m\u001b[0m\u001b[0m\n\u001b[0m\u001b[1;32m     86\u001b[0m \u001b[0;34m\u001b[0m\u001b[0m\n\u001b[1;32m     87\u001b[0m \u001b[0;34m\u001b[0m\u001b[0m\n",
      "\u001b[0;31mValueError\u001b[0m: could not convert string to float: 'Xperiti'"
     ]
    }
   ],
   "source": [
    "x_resampled, y_resampled = smote_nc.fit_resample(x, y)"
   ]
  },
  {
   "cell_type": "code",
   "execution_count": null,
   "metadata": {},
   "outputs": [],
   "source": []
  }
 ],
 "metadata": {
  "language_info": {
   "codemirror_mode": {
    "name": "ipython",
    "version": 3
   },
   "file_extension": ".py",
   "mimetype": "text/x-python",
   "name": "python",
   "nbconvert_exporter": "python",
   "pygments_lexer": "ipython3",
   "version": "3.7.7-final"
  },
  "orig_nbformat": 2,
  "kernelspec": {
   "name": "python37764bitunit2condaf2d4faf30a5848cbbdf1cd45adcc297a",
   "display_name": "Python 3.7.7 64-bit ('unit2': conda)"
  }
 },
 "nbformat": 4,
 "nbformat_minor": 2
}